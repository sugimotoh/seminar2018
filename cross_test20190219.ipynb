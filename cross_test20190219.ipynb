{
  "nbformat": 4,
  "nbformat_minor": 0,
  "metadata": {
    "colab": {
      "name": "cross_test20190219.ipynb",
      "version": "0.3.2",
      "provenance": [],
      "collapsed_sections": [],
      "include_colab_link": true
    },
    "kernelspec": {
      "name": "python3",
      "display_name": "Python 3"
    }
  },
  "cells": [
    {
      "cell_type": "markdown",
      "metadata": {
        "id": "view-in-github",
        "colab_type": "text"
      },
      "source": [
        "<a href=\"https://colab.research.google.com/github/sugimotoh/seminar2018/blob/master/cross_test20190219.ipynb\" target=\"_parent\"><img src=\"https://colab.research.google.com/assets/colab-badge.svg\" alt=\"Open In Colab\"/></a>"
      ]
    },
    {
      "metadata": {
        "id": "MKJgKzUzUqQa",
        "colab_type": "code",
        "colab": {
          "base_uri": "https://localhost:8080/",
          "height": 228
        },
        "outputId": "eb971d61-ce2b-4aab-967f-6b97c9d0c014"
      },
      "cell_type": "code",
      "source": [
        "import numpy as np\n",
        "data = np.array([[28,20],[7,16]])\n",
        "\n",
        "def chisq_test_py():\n",
        "  from scipy import stats\n",
        "  result = stats.chi2_contingency(data, correction=False)\n",
        "  print(\"p値\",result[1], end=\"\") \n",
        "  if 0 < result[1] <= 0.01:\n",
        "    print(\"　*** \\n1%水準で有意な差があります (☆ω☆)ｷﾗｰﾝ \\n\")\n",
        "  elif 0.01 < result[1] <= 0.05:\n",
        "    print(\"　** \\n5%水準で有意な差があります （ﾟーﾟ☆キラッ \\n\")\n",
        "  elif 0.05 < result[1]<= 0.10:\n",
        "    print(\"　* \\n10%水準で有意な差があります☆(ゝω･)v) \\n\")\n",
        "  elif 0.10 < result[1]:\n",
        "    print(\"有意な差がありません(´・ω・`)\")\n",
        "  print(\"観測値\\n\",data)\n",
        "  print(\"期待度数\\n\",result[3])\n",
        "  print(\"\\nカイ二乗の統計量\",result[0])\n",
        "  print(\"自由度\",result[2])\n",
        "\n",
        "chisq_test_py()"
      ],
      "execution_count": 1,
      "outputs": [
        {
          "output_type": "stream",
          "text": [
            "p値 0.027775494764537452　** \n",
            "5%水準で有意な差があります （ﾟーﾟ☆キラッ \n",
            "\n",
            "観測値\n",
            " [[28 20]\n",
            " [ 7 16]]\n",
            "期待度数\n",
            " [[23.66197183 24.33802817]\n",
            " [11.33802817 11.66197183]]\n",
            "\n",
            "カイ二乗の統計量 4.8419484702093385\n",
            "自由度 1\n"
          ],
          "name": "stdout"
        }
      ]
    }
  ]
}