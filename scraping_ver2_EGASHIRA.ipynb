{
  "nbformat": 4,
  "nbformat_minor": 0,
  "metadata": {
    "colab": {
      "name": "scraping_ver2_EGASHIRA ",
      "version": "0.3.2",
      "provenance": [],
      "collapsed_sections": [],
      "include_colab_link": true
    },
    "kernelspec": {
      "name": "python3",
      "display_name": "Python 3"
    },
    "accelerator": "GPU"
  },
  "cells": [
    {
      "cell_type": "markdown",
      "metadata": {
        "id": "view-in-github",
        "colab_type": "text"
      },
      "source": [
        "<a href=\"https://colab.research.google.com/github/sugimotoh/seminar2018/blob/master/scraping_ver2_EGASHIRA.ipynb\" target=\"_parent\"><img src=\"https://colab.research.google.com/assets/colab-badge.svg\" alt=\"Open In Colab\"/></a>"
      ]
    },
    {
      "metadata": {
        "id": "HqGB6LDFtoem",
        "colab_type": "code",
        "colab": {}
      },
      "cell_type": "code",
      "source": [
        "from bs4 import BeautifulSoup\n",
        "import requests\n",
        "import time\n",
        "\n",
        "txt_all = []\n",
        "for i in range(1,8):\n",
        "    if i == 1:\n",
        "        target_url = 'URL'\n",
        "    else:\n",
        "        target_url = 'URL?page='+str(i)\n",
        "        \n",
        "    r = requests.get(target_url)\n",
        "    soup = BeautifulSoup(r.text, \"html.parser\")\n",
        "    txt = soup.find_all(class_=\"os1-symbol-numerical mg10l\")\n",
        "    txt_all.append(txt)\n",
        "    time.sleep(3)"
      ],
      "execution_count": 0,
      "outputs": []
    },
    {
      "metadata": {
        "id": "C5ZC1DmWT0fA",
        "colab_type": "code",
        "colab": {}
      },
      "cell_type": "code",
      "source": [
        "str_txt_all = str(txt_all)\n",
        "str_txt_all2 = str_txt_all.replace('<span class=\"os1-symbol-numerical mg10l\">', \"\").replace(\"</span>\", \"\").replace(\"[\",\"\").replace(\"]\",\"\")\n",
        "str_txt_all3 = str_txt_all2.replace(\",\", \"\")\n",
        "data00 = str_txt_all3.split(' ') \n",
        "data01 = list(map(float,data00))"
      ],
      "execution_count": 0,
      "outputs": []
    },
    {
      "metadata": {
        "id": "HZaPclQUw4Jf",
        "colab_type": "code",
        "outputId": "8e70d603-1ad8-4111-e7b6-9aa6c6994a58",
        "colab": {
          "base_uri": "https://localhost:8080/",
          "height": 102
        }
      },
      "cell_type": "code",
      "source": [
        "from statistics import mean, median, variance, stdev\n",
        "\n",
        "m = mean(data01)\n",
        "median = median(data01)\n",
        "variance = variance(data01)\n",
        "stdev = stdev(data01)\n",
        "print('平均: {0:.2f}'.format(m))\n",
        "print('中央値: {0:.2f}'.format(median))\n",
        "print('分散: {0:.2f}'.format(variance))\n",
        "print('標準偏差: {0:.2f}'.format(stdev))"
      ],
      "execution_count": 0,
      "outputs": [
        {
          "output_type": "stream",
          "text": [
            "平均2: 3.92\n",
            "平均: 3.92\n",
            "中央値: 3.92\n",
            "分散: 0.56\n",
            "標準偏差: 0.75\n"
          ],
          "name": "stdout"
        }
      ]
    },
    {
      "metadata": {
        "id": "AwTVGkYzDAjP",
        "colab_type": "code",
        "outputId": "e664fd45-bf56-455d-ac51-1b7d3d877865",
        "colab": {
          "base_uri": "https://localhost:8080/",
          "height": 53
        }
      },
      "cell_type": "code",
      "source": [
        "ave = sum(data)/len(data)\n",
        "print(ave)\n",
        "print(len(data))"
      ],
      "execution_count": 0,
      "outputs": [
        {
          "output_type": "stream",
          "text": [
            "3.9209316770186327\n",
            "161\n"
          ],
          "name": "stdout"
        }
      ]
    }
  ]
}