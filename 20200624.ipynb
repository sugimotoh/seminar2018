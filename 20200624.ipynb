{
  "nbformat": 4,
  "nbformat_minor": 0,
  "metadata": {
    "colab": {
      "name": "20200624.ipynb",
      "provenance": [],
      "authorship_tag": "ABX9TyP4mA7FKFXGn2OfjYfcK0Fr",
      "include_colab_link": true
    },
    "kernelspec": {
      "name": "python3",
      "display_name": "Python 3"
    },
    "accelerator": "GPU"
  },
  "cells": [
    {
      "cell_type": "markdown",
      "metadata": {
        "id": "view-in-github",
        "colab_type": "text"
      },
      "source": [
        "<a href=\"https://colab.research.google.com/github/sugimotoh/seminar2018/blob/master/20200624.ipynb\" target=\"_parent\"><img src=\"https://colab.research.google.com/assets/colab-badge.svg\" alt=\"Open In Colab\"/></a>"
      ]
    },
    {
      "cell_type": "code",
      "metadata": {
        "id": "mRgU8U9YRKYR",
        "colab_type": "code",
        "colab": {
          "base_uri": "https://localhost:8080/",
          "height": 34
        },
        "outputId": "34e1969f-04be-4927-cfa5-da9ddfadd2fb"
      },
      "source": [
        "(1+2)+(3+4)"
      ],
      "execution_count": null,
      "outputs": [
        {
          "output_type": "execute_result",
          "data": {
            "text/plain": [
              "10"
            ]
          },
          "metadata": {
            "tags": []
          },
          "execution_count": 2
        }
      ]
    },
    {
      "cell_type": "code",
      "metadata": {
        "id": "jOgGHiIESo26",
        "colab_type": "code",
        "colab": {}
      },
      "source": [
        "red = \"菊池さん\""
      ],
      "execution_count": null,
      "outputs": []
    },
    {
      "cell_type": "code",
      "metadata": {
        "id": "PzRyaDpLTgsZ",
        "colab_type": "code",
        "colab": {
          "base_uri": "https://localhost:8080/",
          "height": 34
        },
        "outputId": "bc7ce709-410e-4171-836e-f8bc5f7788b1"
      },
      "source": [
        "red"
      ],
      "execution_count": null,
      "outputs": [
        {
          "output_type": "execute_result",
          "data": {
            "text/plain": [
              "'菊池さん'"
            ]
          },
          "metadata": {
            "tags": []
          },
          "execution_count": 12
        }
      ]
    },
    {
      "cell_type": "code",
      "metadata": {
        "id": "FfNHaJs8XLdG",
        "colab_type": "code",
        "colab": {}
      },
      "source": [
        "yellow=\"眠い？\""
      ],
      "execution_count": null,
      "outputs": []
    },
    {
      "cell_type": "code",
      "metadata": {
        "id": "d1hNvIcpXy9P",
        "colab_type": "code",
        "colab": {
          "base_uri": "https://localhost:8080/",
          "height": 34
        },
        "outputId": "5ade6678-05aa-42e6-936f-85a50f0e1b6a"
      },
      "source": [
        "yellow"
      ],
      "execution_count": null,
      "outputs": [
        {
          "output_type": "execute_result",
          "data": {
            "text/plain": [
              "'眠い？'"
            ]
          },
          "metadata": {
            "tags": []
          },
          "execution_count": 26
        }
      ]
    },
    {
      "cell_type": "code",
      "metadata": {
        "id": "S53rIaJcX6ch",
        "colab_type": "code",
        "colab": {}
      },
      "source": [
        "pink=yellow+red"
      ],
      "execution_count": null,
      "outputs": []
    },
    {
      "cell_type": "code",
      "metadata": {
        "id": "oWwGLTLHYiI_",
        "colab_type": "code",
        "colab": {
          "base_uri": "https://localhost:8080/",
          "height": 34
        },
        "outputId": "2ed8e6fa-c821-4848-ec46-a35cbe1a8c01"
      },
      "source": [
        "pink"
      ],
      "execution_count": null,
      "outputs": [
        {
          "output_type": "execute_result",
          "data": {
            "text/plain": [
              "'眠い？菊池さん'"
            ]
          },
          "metadata": {
            "tags": []
          },
          "execution_count": 31
        }
      ]
    },
    {
      "cell_type": "code",
      "metadata": {
        "id": "-Q_5LNd-Y8BU",
        "colab_type": "code",
        "colab": {
          "base_uri": "https://localhost:8080/",
          "height": 34
        },
        "outputId": "6bdb8d80-2831-42f4-9fa9-4cb2b1a3ced4"
      },
      "source": [
        "print(pink*10)"
      ],
      "execution_count": null,
      "outputs": [
        {
          "output_type": "stream",
          "text": [
            "眠い？菊池さん眠い？菊池さん眠い？菊池さん眠い？菊池さん眠い？菊池さん眠い？菊池さん眠い？菊池さん眠い？菊池さん眠い？菊池さん眠い？菊池さん\n"
          ],
          "name": "stdout"
        }
      ]
    },
    {
      "cell_type": "code",
      "metadata": {
        "id": "eKcp-Ma0ZDqt",
        "colab_type": "code",
        "colab": {
          "base_uri": "https://localhost:8080/",
          "height": 174
        },
        "outputId": "6c610487-48c3-4b7c-88c8-a29327d094b4"
      },
      "source": [
        "!pip3 install ColabTurtle\n",
        "from ColabTurtle.Turtle import *"
      ],
      "execution_count": 2,
      "outputs": [
        {
          "output_type": "stream",
          "text": [
            "Collecting ColabTurtle\n",
            "  Downloading https://files.pythonhosted.org/packages/49/01/6da7091c2c6c917cce99c000b89acb6aa27b66ef6eafc0c0ccf59b98694f/ColabTurtle-2.0.0.tar.gz\n",
            "Building wheels for collected packages: ColabTurtle\n",
            "  Building wheel for ColabTurtle (setup.py) ... \u001b[?25l\u001b[?25hdone\n",
            "  Created wheel for ColabTurtle: filename=ColabTurtle-2.0.0-cp36-none-any.whl size=4033 sha256=8eee8d7ef20911de70e6c015e79ac487f4daf62ef14560996a26d640e47075bf\n",
            "  Stored in directory: /root/.cache/pip/wheels/a8/29/ec/ad346f0042ae467cc74f4378916348faf975b07890651dcae7\n",
            "Successfully built ColabTurtle\n",
            "Installing collected packages: ColabTurtle\n",
            "Successfully installed ColabTurtle-2.0.0\n"
          ],
          "name": "stdout"
        }
      ]
    },
    {
      "cell_type": "code",
      "metadata": {
        "id": "no2YcAc2qsWq",
        "colab_type": "code",
        "colab": {
          "base_uri": "https://localhost:8080/",
          "height": 521
        },
        "outputId": "cb41dd9e-cb30-413b-b67d-d26448304009"
      },
      "source": [
        "initializeTurtle(initial_speed=1)\n",
        "color('orange')\n",
        "bgcolor('white')\n",
        "width(1)\n",
        "forward(100)\n",
        "left(90)"
      ],
      "execution_count": 8,
      "outputs": [
        {
          "output_type": "display_data",
          "data": {
            "text/html": [
              "\n",
              "      <svg width=\"800\" height=\"500\">\n",
              "        <rect width=\"100%\" height=\"100%\" fill=\"white\"/>\n",
              "        <line x1=\"400\" y1=\"250\" x2=\"400.0\" y2=\"150.0\" stroke-linecap=\"round\" style=\"stroke:orange;stroke-width:1\"/>\n",
              "        \n",
              "      <g visibility=visible transform=\"rotate(90,400.0,150.0) translate(400.0, 150.0)\">\n",
              "        <circle stroke=\"orange\" stroke-width=\"3\" fill=\"transparent\" r=\"12\" cx=\"0\" cy=\"0\"/>\n",
              "        <polygon points=\"0,19 3,16 -3,16\" style=\"fill:orange;stroke:orange;stroke-width:2\"/>\n",
              "      </g>\n",
              "    \n",
              "      </svg>\n",
              "    "
            ],
            "text/plain": [
              "<IPython.core.display.HTML object>"
            ]
          },
          "metadata": {
            "tags": []
          }
        }
      ]
    },
    {
      "cell_type": "code",
      "metadata": {
        "id": "r84HtF2zrHCn",
        "colab_type": "code",
        "colab": {
          "base_uri": "https://localhost:8080/",
          "height": 521
        },
        "outputId": "0cfee816-0f39-47b7-886b-7abe9dbd60c5"
      },
      "source": [
        "forward(100)\n",
        "left(90)\n",
        "forward(100)\n",
        "left(90)\n",
        "forward(100)"
      ],
      "execution_count": 11,
      "outputs": [
        {
          "output_type": "display_data",
          "data": {
            "text/html": [
              "\n",
              "      <svg width=\"800\" height=\"500\">\n",
              "        <rect width=\"100%\" height=\"100%\" fill=\"white\"/>\n",
              "        <line x1=\"400\" y1=\"250\" x2=\"400.0\" y2=\"150.0\" stroke-linecap=\"round\" style=\"stroke:orange;stroke-width:1\"/><line x1=\"400.0\" y1=\"150.0\" x2=\"300.0\" y2=\"150.0\" stroke-linecap=\"round\" style=\"stroke:orange;stroke-width:1\"/><line x1=\"300.0\" y1=\"150.0\" x2=\"300.0\" y2=\"250.0\" stroke-linecap=\"round\" style=\"stroke:orange;stroke-width:1\"/><line x1=\"300.0\" y1=\"250.0\" x2=\"400.0\" y2=\"250.0\" stroke-linecap=\"round\" style=\"stroke:orange;stroke-width:1\"/><line x1=\"400.0\" y1=\"250.0\" x2=\"400.0\" y2=\"150.0\" stroke-linecap=\"round\" style=\"stroke:orange;stroke-width:1\"/><line x1=\"400.0\" y1=\"150.0\" x2=\"300.0\" y2=\"150.0\" stroke-linecap=\"round\" style=\"stroke:orange;stroke-width:1\"/><line x1=\"300.0\" y1=\"150.0\" x2=\"300.0\" y2=\"250.0\" stroke-linecap=\"round\" style=\"stroke:orange;stroke-width:1\"/>\n",
              "        \n",
              "      <g visibility=visible transform=\"rotate(0,300.0,250.0) translate(300.0, 250.0)\">\n",
              "        <circle stroke=\"orange\" stroke-width=\"3\" fill=\"transparent\" r=\"12\" cx=\"0\" cy=\"0\"/>\n",
              "        <polygon points=\"0,19 3,16 -3,16\" style=\"fill:orange;stroke:orange;stroke-width:2\"/>\n",
              "      </g>\n",
              "    \n",
              "      </svg>\n",
              "    "
            ],
            "text/plain": [
              "<IPython.core.display.HTML object>"
            ]
          },
          "metadata": {
            "tags": []
          }
        }
      ]
    },
    {
      "cell_type": "code",
      "metadata": {
        "id": "M6Zknbk_fspL",
        "colab_type": "code",
        "colab": {
          "base_uri": "https://localhost:8080/",
          "height": 521
        },
        "outputId": "0bd6ebd7-35e0-4a53-d624-f1b350eb57dd"
      },
      "source": [
        "initializeTurtle(initial_speed=10)\n",
        "color('orange')\n",
        "bgcolor('white')\n",
        "width(1)\n",
        "for i in range(36):\n",
        "    forward(200)\n",
        "    left(190)"
      ],
      "execution_count": null,
      "outputs": [
        {
          "output_type": "display_data",
          "data": {
            "text/html": [
              "\n",
              "      <svg width=\"800\" height=\"500\">\n",
              "        <rect width=\"100%\" height=\"100%\" fill=\"white\"/>\n",
              "        <line x1=\"400\" y1=\"250\" x2=\"399.99999999999994\" y2=\"50.0\" stroke-linecap=\"round\" style=\"stroke:orange;stroke-width:1\"/><line x1=\"399.99999999999994\" y1=\"50.0\" x2=\"434.72963553338604\" y2=\"246.9615506024416\" stroke-linecap=\"round\" style=\"stroke:orange;stroke-width:1\"/><line x1=\"434.72963553338604\" y1=\"246.9615506024416\" x2=\"366.32560686825235\" y2=\"59.023026445259916\" stroke-linecap=\"round\" style=\"stroke:orange;stroke-width:1\"/><line x1=\"366.32560686825235\" y1=\"59.023026445259916\" x2=\"466.3256068682524\" y2=\"232.22810720214764\" stroke-linecap=\"round\" style=\"stroke:orange;stroke-width:1\"/><line x1=\"466.3256068682524\" y1=\"232.22810720214764\" x2=\"337.7680849309445\" y2=\"79.01921857835205\" stroke-linecap=\"round\" style=\"stroke:orange;stroke-width:1\"/><line x1=\"337.7680849309445\" y1=\"79.01921857835205\" x2=\"490.9769735547401\" y2=\"207.5767405156599\" stroke-linecap=\"round\" style=\"stroke:orange;stroke-width:1\"/><line x1=\"490.9769735547401\" y1=\"207.5767405156599\" x2=\"317.7718927978524\" y2=\"107.57674051565988\" stroke-linecap=\"round\" style=\"stroke:orange;stroke-width:1\"/><line x1=\"317.7718927978524\" y1=\"107.57674051565988\" x2=\"505.7104169550341\" y2=\"175.98076918079363\" stroke-linecap=\"round\" style=\"stroke:orange;stroke-width:1\"/><line x1=\"505.7104169550341\" y1=\"175.98076918079363\" x2=\"308.7488663525925\" y2=\"141.25113364740753\" stroke-linecap=\"round\" style=\"stroke:orange;stroke-width:1\"/><line x1=\"308.7488663525925\" y1=\"141.25113364740753\" x2=\"508.7488663525925\" y2=\"141.25113364740753\" stroke-linecap=\"round\" style=\"stroke:orange;stroke-width:1\"/><line x1=\"508.7488663525925\" y1=\"141.25113364740753\" x2=\"311.78731575015087\" y2=\"175.98076918079357\" stroke-linecap=\"round\" style=\"stroke:orange;stroke-width:1\"/><line x1=\"311.78731575015087\" y1=\"175.98076918079357\" x2=\"499.72583990733256\" y2=\"107.57674051565985\" stroke-linecap=\"round\" style=\"stroke:orange;stroke-width:1\"/><line x1=\"499.72583990733256\" y1=\"107.57674051565985\" x2=\"326.5207591504448\" y2=\"207.57674051565982\" stroke-linecap=\"round\" style=\"stroke:orange;stroke-width:1\"/><line x1=\"326.5207591504448\" y1=\"207.57674051565982\" x2=\"479.72964777424033\" y2=\"79.01921857835191\" stroke-linecap=\"round\" style=\"stroke:orange;stroke-width:1\"/><line x1=\"479.72964777424033\" y1=\"79.01921857835191\" x2=\"351.1721258369324\" y2=\"232.22810720214753\" stroke-linecap=\"round\" style=\"stroke:orange;stroke-width:1\"/><line x1=\"351.1721258369324\" y1=\"232.22810720214753\" x2=\"451.1721258369324\" y2=\"59.0230264452598\" stroke-linecap=\"round\" style=\"stroke:orange;stroke-width:1\"/><line x1=\"451.1721258369324\" y1=\"59.0230264452598\" x2=\"382.7680971717987\" y2=\"246.9615506024415\" stroke-linecap=\"round\" style=\"stroke:orange;stroke-width:1\"/><line x1=\"382.7680971717987\" y1=\"246.9615506024415\" x2=\"417.49773270518466\" y2=\"49.99999999999986\" stroke-linecap=\"round\" style=\"stroke:orange;stroke-width:1\"/><line x1=\"417.49773270518466\" y1=\"49.99999999999986\" x2=\"417.49773270518466\" y2=\"249.99999999999986\" stroke-linecap=\"round\" style=\"stroke:orange;stroke-width:1\"/><line x1=\"417.49773270518466\" y1=\"249.99999999999986\" x2=\"382.7680971717986\" y2=\"53.03844939755825\" stroke-linecap=\"round\" style=\"stroke:orange;stroke-width:1\"/><line x1=\"382.7680971717986\" y1=\"53.03844939755825\" x2=\"451.17212583693237\" y2=\"240.9769735547399\" stroke-linecap=\"round\" style=\"stroke:orange;stroke-width:1\"/><line x1=\"451.17212583693237\" y1=\"240.9769735547399\" x2=\"351.1721258369323\" y2=\"67.77189279785225\" stroke-linecap=\"round\" style=\"stroke:orange;stroke-width:1\"/><line x1=\"351.1721258369323\" y1=\"67.77189279785225\" x2=\"479.7296477742402\" y2=\"220.98078142164786\" stroke-linecap=\"round\" style=\"stroke:orange;stroke-width:1\"/><line x1=\"479.7296477742402\" y1=\"220.98078142164786\" x2=\"326.52075915044463\" y2=\"92.42325948434001\" stroke-linecap=\"round\" style=\"stroke:orange;stroke-width:1\"/><line x1=\"326.52075915044463\" y1=\"92.42325948434001\" x2=\"499.7258399073324\" y2=\"192.42325948434\" stroke-linecap=\"round\" style=\"stroke:orange;stroke-width:1\"/><line x1=\"499.7258399073324\" y1=\"192.42325948434\" x2=\"311.7873157501507\" y2=\"124.01923081920627\" stroke-linecap=\"round\" style=\"stroke:orange;stroke-width:1\"/><line x1=\"311.7873157501507\" y1=\"124.01923081920627\" x2=\"508.7488663525923\" y2=\"158.74886635259233\" stroke-linecap=\"round\" style=\"stroke:orange;stroke-width:1\"/><line x1=\"508.7488663525923\" y1=\"158.74886635259233\" x2=\"308.7488663525923\" y2=\"158.74886635259236\" stroke-linecap=\"round\" style=\"stroke:orange;stroke-width:1\"/><line x1=\"308.7488663525923\" y1=\"158.74886635259236\" x2=\"505.7104169550339\" y2=\"124.01923081920629\" stroke-linecap=\"round\" style=\"stroke:orange;stroke-width:1\"/><line x1=\"505.7104169550339\" y1=\"124.01923081920629\" x2=\"317.7718927978523\" y2=\"192.42325948434006\" stroke-linecap=\"round\" style=\"stroke:orange;stroke-width:1\"/><line x1=\"317.7718927978523\" y1=\"192.42325948434006\" x2=\"490.97697355473997\" y2=\"92.42325948433998\" stroke-linecap=\"round\" style=\"stroke:orange;stroke-width:1\"/><line x1=\"490.97697355473997\" y1=\"92.42325948433998\" x2=\"337.7680849309444\" y2=\"220.98078142164786\" stroke-linecap=\"round\" style=\"stroke:orange;stroke-width:1\"/><line x1=\"337.7680849309444\" y1=\"220.98078142164786\" x2=\"466.32560686825224\" y2=\"67.77189279785225\" stroke-linecap=\"round\" style=\"stroke:orange;stroke-width:1\"/><line x1=\"466.32560686825224\" y1=\"67.77189279785225\" x2=\"366.3256068682523\" y2=\"240.97697355474\" stroke-linecap=\"round\" style=\"stroke:orange;stroke-width:1\"/><line x1=\"366.3256068682523\" y1=\"240.97697355474\" x2=\"434.7296355333861\" y2=\"53.03844939755834\" stroke-linecap=\"round\" style=\"stroke:orange;stroke-width:1\"/><line x1=\"434.7296355333861\" y1=\"53.03844939755834\" x2=\"400.00000000000006\" y2=\"249.99999999999994\" stroke-linecap=\"round\" style=\"stroke:orange;stroke-width:1\"/>\n",
              "        \n",
              "      <g visibility=visible transform=\"rotate(180,400.00000000000006,249.99999999999994) translate(400.00000000000006, 249.99999999999994)\">\n",
              "        <circle stroke=\"orange\" stroke-width=\"3\" fill=\"transparent\" r=\"12\" cx=\"0\" cy=\"0\"/>\n",
              "        <polygon points=\"0,19 3,16 -3,16\" style=\"fill:orange;stroke:orange;stroke-width:2\"/>\n",
              "      </g>\n",
              "    \n",
              "      </svg>\n",
              "    "
            ],
            "text/plain": [
              "<IPython.core.display.HTML object>"
            ]
          },
          "metadata": {
            "tags": []
          }
        }
      ]
    },
    {
      "cell_type": "code",
      "metadata": {
        "id": "PD4wU41daa2A",
        "colab_type": "code",
        "colab": {}
      },
      "source": [
        ""
      ],
      "execution_count": null,
      "outputs": []
    }
  ]
}