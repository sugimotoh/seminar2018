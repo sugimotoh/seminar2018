{
  "nbformat": 4,
  "nbformat_minor": 0,
  "metadata": {
    "colab": {
      "name": "繰り返し処理（for文）.ipynb",
      "provenance": [],
      "authorship_tag": "ABX9TyOgIKXMqETcfPoiQJ/hmHW3",
      "include_colab_link": true
    },
    "kernelspec": {
      "name": "python3",
      "display_name": "Python 3"
    }
  },
  "cells": [
    {
      "cell_type": "markdown",
      "metadata": {
        "id": "view-in-github",
        "colab_type": "text"
      },
      "source": [
        "<a href=\"https://colab.research.google.com/github/sugimotoh/seminar2018/blob/master/%E7%B9%B0%E3%82%8A%E8%BF%94%E3%81%97%E5%87%A6%E7%90%86%EF%BC%88for%E6%96%87%EF%BC%89.ipynb\" target=\"_parent\"><img src=\"https://colab.research.google.com/assets/colab-badge.svg\" alt=\"Open In Colab\"/></a>"
      ]
    },
    {
      "cell_type": "code",
      "metadata": {
        "id": "xPYYEljGD9yN",
        "colab_type": "code",
        "colab": {
          "base_uri": "https://localhost:8080/",
          "height": 366
        },
        "outputId": "5b165a13-fc1b-4f01-a302-cd6915a6a6be"
      },
      "source": [
        "# range(20)の範囲内でiを0から繰り返す\n",
        "# 繰り返す処理は　print(i)\n",
        "# 引数iをプリントする\n",
        "for i in range(20):\n",
        "    print(i)\n",
        "# 演習：range(20)の数字を変えてみる"
      ],
      "execution_count": 1,
      "outputs": [
        {
          "output_type": "stream",
          "text": [
            "0\n",
            "1\n",
            "2\n",
            "3\n",
            "4\n",
            "5\n",
            "6\n",
            "7\n",
            "8\n",
            "9\n",
            "10\n",
            "11\n",
            "12\n",
            "13\n",
            "14\n",
            "15\n",
            "16\n",
            "17\n",
            "18\n",
            "19\n"
          ],
          "name": "stdout"
        }
      ]
    },
    {
      "cell_type": "code",
      "metadata": {
        "id": "Ot40-eRsES_M",
        "colab_type": "code",
        "colab": {
          "base_uri": "https://localhost:8080/",
          "height": 104
        },
        "outputId": "b6c3b892-632f-45b8-b900-88269c319b25"
      },
      "source": [
        "# nameベクトル定義\n",
        "names = ['4年河野', '4年原', '大学院_伊藤ゼミ_八重島', '2年大西', '2年菊池']\n",
        "for i in range(5):\n",
        "    print(names[i])\n",
        "# 繰り返す　range(5)の数字を変えてみる"
      ],
      "execution_count": 2,
      "outputs": [
        {
          "output_type": "stream",
          "text": [
            "4年河野\n",
            "4年原\n",
            "大学院_伊藤ゼミ_八重島\n",
            "2年大西\n",
            "2年菊池\n"
          ],
          "name": "stdout"
        }
      ]
    },
    {
      "cell_type": "code",
      "metadata": {
        "id": "7tM5Gk9XEl6J",
        "colab_type": "code",
        "colab": {
          "base_uri": "https://localhost:8080/",
          "height": 86
        },
        "outputId": "dc6a6bd5-bbd6-443a-8a56-89eef955ebc8"
      },
      "source": [
        "for i in range(4):\n",
        "    print('{}さん'.format(names[i]))\n",
        "# 繰り返す　range(4))の数字を変えてみる"
      ],
      "execution_count": 3,
      "outputs": [
        {
          "output_type": "stream",
          "text": [
            "4年河野さん\n",
            "4年原さん\n",
            "大学院_伊藤ゼミ_八重島さん\n",
            "2年大西さん\n"
          ],
          "name": "stdout"
        }
      ]
    },
    {
      "cell_type": "code",
      "metadata": {
        "id": "5hsLAXzTE5Ty",
        "colab_type": "code",
        "colab": {
          "base_uri": "https://localhost:8080/",
          "height": 34
        },
        "outputId": "2a935541-3e11-4f56-8de8-13d110b02c8c"
      },
      "source": [
        "#　ベクトルnamesの長さ（中に含まれる要素の数）を数える\n",
        "len(names)"
      ],
      "execution_count": 4,
      "outputs": [
        {
          "output_type": "execute_result",
          "data": {
            "text/plain": [
              "5"
            ]
          },
          "metadata": {
            "tags": []
          },
          "execution_count": 4
        }
      ]
    },
    {
      "cell_type": "code",
      "metadata": {
        "id": "UiQa4NKxE-TR",
        "colab_type": "code",
        "colab": {
          "base_uri": "https://localhost:8080/",
          "height": 104
        },
        "outputId": "5deca313-65d8-4687-bba7-deafba20a284"
      },
      "source": [
        "#　ベクトルnamesの長さをlenで読み込んで、これをrangeの範囲指定に使う。\n",
        "for i in range(len(names)):\n",
        "    print('{}さん'.format(names[i]))"
      ],
      "execution_count": 5,
      "outputs": [
        {
          "output_type": "stream",
          "text": [
            "4年河野さん\n",
            "4年原さん\n",
            "大学院_伊藤ゼミ_八重島さん\n",
            "2年大西さん\n",
            "2年菊池さん\n"
          ],
          "name": "stdout"
        }
      ]
    },
    {
      "cell_type": "code",
      "metadata": {
        "id": "zqRNz8TuFJaq",
        "colab_type": "code",
        "colab": {
          "base_uri": "https://localhost:8080/",
          "height": 104
        },
        "outputId": "53ccce10-e03d-4879-bc6b-766eae52681b"
      },
      "source": [
        "#　最終的に以下のようなコードに落とし込む　\n",
        "for test in names:\n",
        "    print('{}さん'.format(test))\n",
        "# testは任意の文字列でよいので各自やってみる"
      ],
      "execution_count": 10,
      "outputs": [
        {
          "output_type": "stream",
          "text": [
            "4年河野さん\n",
            "4年原さん\n",
            "大学院_伊藤ゼミ_八重島さん\n",
            "2年大西さん\n",
            "2年菊池さん\n"
          ],
          "name": "stdout"
        }
      ]
    },
    {
      "cell_type": "code",
      "metadata": {
        "id": "csm1asd_EZ2_",
        "colab_type": "code",
        "colab": {}
      },
      "source": [
        "#以下をベクトルに定義し、'ミーティング'をプログラムで加えて出力させましょう。\n",
        "\n",
        "三井住友海上火災保険株式会社_7月20日（月）15時よりzoom\n",
        "株式会社イトーキ_7月21日（火）10時よりzoom\n",
        "丸井グループ_7月21日（火）15時よりzoom\n",
        "株式会社ハローデイ_7月22日（水）15時よりzoom"
      ],
      "execution_count": null,
      "outputs": []
    }
  ]
}