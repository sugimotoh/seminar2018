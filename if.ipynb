{
  "nbformat": 4,
  "nbformat_minor": 0,
  "metadata": {
    "colab": {
      "name": "if.ipynb",
      "provenance": [],
      "authorship_tag": "ABX9TyMV1IltZP0PDaHOQ1FXprE4",
      "include_colab_link": true
    },
    "kernelspec": {
      "name": "python3",
      "display_name": "Python 3"
    }
  },
  "cells": [
    {
      "cell_type": "markdown",
      "metadata": {
        "id": "view-in-github",
        "colab_type": "text"
      },
      "source": [
        "<a href=\"https://colab.research.google.com/github/sugimotoh/seminar2018/blob/master/if.ipynb\" target=\"_parent\"><img src=\"https://colab.research.google.com/assets/colab-badge.svg\" alt=\"Open In Colab\"/></a>"
      ]
    },
    {
      "cell_type": "markdown",
      "metadata": {
        "id": "gOleysFXW9Rq",
        "colab_type": "text"
      },
      "source": [
        "# 条件分岐\n",
        "値に応じて処理を変更したいとき、if 文を使います。\n",
        "\n",
        "## if文\n",
        "```\n",
        "if 条件式1:\n",
        "  条件式がTRUEのとき実行する処理\n",
        "elif 条件式2:\n",
        "  条件式1がFALSEで，条件式BがTRUEのとき実行する処理\n",
        "elif 条件式3:\n",
        "  ...\n",
        "else:\n",
        "  全ての条件式がFALSEのときに実行する処理\n",
        "```\n",
        "if文の中で実行する処理は、インデント（字下げ）します。インデントはtabキーを押します．\n",
        "\n",
        "## 条件式\n",
        "- ==（等号）：右辺と左辺が等しいときのみ真\n",
        "- !=（ノットイコール）：右辺と左辺が等しくないときのみ真\n",
        "- <（小なり）：左辺が右辺より小さいとき真\n",
        "- <=（小なりイコール）：左辺が右辺以下であるとき真\n",
        "- \\>（大なり）：左辺が右辺より大きいとき真\n",
        "- \\>=（大なりイコール）：左辺が右辺以上であるとき真\n",
        "**太字**"
      ]
    },
    {
      "cell_type": "markdown",
      "metadata": {
        "id": "EiUeJWEcNoXU",
        "colab_type": "text"
      },
      "source": [
        "# **実行用コード（1）**"
      ]
    },
    {
      "cell_type": "code",
      "metadata": {
        "id": "GHkEyP6hNlak",
        "colab_type": "code",
        "colab": {
          "base_uri": "https://localhost:8080/",
          "height": 34
        },
        "outputId": "94e5a645-e068-46d4-e81e-e2901555d524"
      },
      "source": [
        "score = 77\n",
        "\n",
        "if score >= 80:\n",
        "  print(\"A\")\n",
        "elif score >= 60:\n",
        "  print(\"B\")\n",
        "else:\n",
        "  print(\"C\")"
      ],
      "execution_count": 14,
      "outputs": [
        {
          "output_type": "stream",
          "text": [
            "B\n"
          ],
          "name": "stdout"
        }
      ]
    },
    {
      "cell_type": "markdown",
      "metadata": {
        "id": "AXi1nxMEO_QO",
        "colab_type": "text"
      },
      "source": [
        "# 四則演算をする\n",
        "\n",
        "条件式\n",
        "- +：足し算\n",
        "- -：引き算\n",
        "- *：掛け算\n",
        "- /：割り算\n",
        "- %：割り算の余りを求める\n",
        "- **：べき乗\n"
      ]
    },
    {
      "cell_type": "markdown",
      "metadata": {
        "id": "gmcoWDNB3wld",
        "colab_type": "text"
      },
      "source": [
        "**スカラー（数値）**"
      ]
    },
    {
      "cell_type": "code",
      "metadata": {
        "id": "8JlfKnmT3i5r",
        "colab_type": "code",
        "colab": {
          "base_uri": "https://localhost:8080/",
          "height": 34
        },
        "outputId": "2dd37d55-aa91-4080-c237-9ea6b94c198c"
      },
      "source": [
        "10"
      ],
      "execution_count": 33,
      "outputs": [
        {
          "output_type": "execute_result",
          "data": {
            "text/plain": [
              "10"
            ]
          },
          "metadata": {
            "tags": []
          },
          "execution_count": 33
        }
      ]
    },
    {
      "cell_type": "code",
      "metadata": {
        "id": "tTbrKQmx31Pl",
        "colab_type": "code",
        "colab": {
          "base_uri": "https://localhost:8080/",
          "height": 34
        },
        "outputId": "a4e8f294-0f97-43d5-8e66-4c3770b4153e"
      },
      "source": [
        "1+2+3+4"
      ],
      "execution_count": 34,
      "outputs": [
        {
          "output_type": "execute_result",
          "data": {
            "text/plain": [
              "10"
            ]
          },
          "metadata": {
            "tags": []
          },
          "execution_count": 34
        }
      ]
    },
    {
      "cell_type": "markdown",
      "metadata": {
        "id": "aQJ4vYen36H7",
        "colab_type": "text"
      },
      "source": [
        "**ベクトル**"
      ]
    },
    {
      "cell_type": "code",
      "metadata": {
        "id": "K8uumiLk3PIS",
        "colab_type": "code",
        "colab": {
          "base_uri": "https://localhost:8080/",
          "height": 34
        },
        "outputId": "b6c52c61-713c-48e0-a6c7-2d741643886a"
      },
      "source": [
        "[1,2,3,4]"
      ],
      "execution_count": 31,
      "outputs": [
        {
          "output_type": "execute_result",
          "data": {
            "text/plain": [
              "[1, 2, 3, 4]"
            ]
          },
          "metadata": {
            "tags": []
          },
          "execution_count": 31
        }
      ]
    },
    {
      "cell_type": "markdown",
      "metadata": {
        "id": "b29D3A7g39-L",
        "colab_type": "text"
      },
      "source": [
        "**ベクトル演算**"
      ]
    },
    {
      "cell_type": "code",
      "metadata": {
        "id": "qUln2WUN3d8d",
        "colab_type": "code",
        "colab": {
          "base_uri": "https://localhost:8080/",
          "height": 34
        },
        "outputId": "ac54c221-9f12-4d64-daf2-861f221986b7"
      },
      "source": [
        "sum([1,2,3,4])"
      ],
      "execution_count": 32,
      "outputs": [
        {
          "output_type": "execute_result",
          "data": {
            "text/plain": [
              "10"
            ]
          },
          "metadata": {
            "tags": []
          },
          "execution_count": 32
        }
      ]
    },
    {
      "cell_type": "markdown",
      "metadata": {
        "id": "MQjmPz9yN2Y3",
        "colab_type": "text"
      },
      "source": [
        "**確認：数値(スカラー)を比較する。**"
      ]
    },
    {
      "cell_type": "code",
      "metadata": {
        "id": "zEWce96lNli9",
        "colab_type": "code",
        "colab": {
          "base_uri": "https://localhost:8080/",
          "height": 104
        },
        "outputId": "b6b35b20-a873-4ee9-b1e8-fbf4ee7bf74a"
      },
      "source": [
        "if 1==1:\n",
        "  print(\"1つ目の式はTRUE（正しい）\")\n",
        "if 4-4==0:\n",
        "  print(\"2つ目の式はTRUE（正しい）\")\n",
        "if 3 == len([0,1,2]):\n",
        "  print(\"3つ目の式はTRUE（正しい）\")\n",
        "if 1+2+3+4==10:\n",
        "  print(\"4つ目の式はTRUE（正しい）\")\n",
        "if sum([1,2,3,4])==10:\n",
        "  print(\"5つ目の式はTRUE（正しい）\")"
      ],
      "execution_count": 35,
      "outputs": [
        {
          "output_type": "stream",
          "text": [
            "1つ目の式はTRUE（正しい）\n",
            "2つ目の式はTRUE（正しい）\n",
            "3つ目の式はTRUE（正しい）\n",
            "4つ目の式はTRUE（正しい）\n",
            "5つ目の式はTRUE（正しい）\n"
          ],
          "name": "stdout"
        }
      ]
    },
    {
      "cell_type": "markdown",
      "metadata": {
        "id": "LPfCDPDhOWb2",
        "colab_type": "text"
      },
      "source": [
        "**確認：リストを比較する**"
      ]
    },
    {
      "cell_type": "code",
      "metadata": {
        "id": "_f02LG70OUSx",
        "colab_type": "code",
        "colab": {
          "base_uri": "https://localhost:8080/",
          "height": 52
        },
        "outputId": "9d05b148-3012-4bc6-cdf9-727634f91a01"
      },
      "source": [
        "if [8,9,10,11]==[8,9,10,11]:\n",
        "  print(\"1つ目の式はTRUE（正しい）\")\n",
        "if [1,9,10,11]==[8,9,10,11]:\n",
        "  print(\"2つ目の式はTRUE（正しい）\")\n",
        "if [100,9,10,11]==[8,9,10,11]:\n",
        "  print(\"3つ目の式はTRUE（正しい）\")\n",
        "if [1,2,3]==[1,2,3]:\n",
        "  print(\"4つ目の式はTRUE（正しい）\")"
      ],
      "execution_count": 37,
      "outputs": [
        {
          "output_type": "stream",
          "text": [
            "1つ目の式はTRUE（正しい）\n",
            "4つ目の式はTRUE（正しい）\n"
          ],
          "name": "stdout"
        }
      ]
    },
    {
      "cell_type": "markdown",
      "metadata": {
        "id": "pxLGg0ZoxzUc",
        "colab_type": "text"
      },
      "source": [
        "**確認：文字を比較する。**"
      ]
    },
    {
      "cell_type": "code",
      "metadata": {
        "id": "84wnex_QNlpp",
        "colab_type": "code",
        "colab": {
          "base_uri": "https://localhost:8080/",
          "height": 34
        },
        "outputId": "7294cc37-a881-4e05-91bd-c01daf6317b3"
      },
      "source": [
        "if \"colaboratory\"==\"colaboratory\":\n",
        "  print(\"1つ目の式はTRUE（正しい）\")\n",
        "if \"Colaboratory\"==\"colaboratory\":\n",
        "  print(\"2つ目の式はTRUE（正しい）\")\n",
        "if \"cOlaboratory\"==\"colaboratory\":\n",
        "  print(\"3つ目の式はTRUE（正しい）\")\n",
        "if \"ｃolaboratory\"==\"colaboratory\":\n",
        "  print(\"4つ目の式はTRUE（正しい）\")\n",
        "if \"Ⅽolaboratory\"==\"colaboratory\":\n",
        "  print(\"5つ目の式はTRUE（正しい）\")"
      ],
      "execution_count": 38,
      "outputs": [
        {
          "output_type": "stream",
          "text": [
            "1つ目の式はTRUE（正しい）\n"
          ],
          "name": "stdout"
        }
      ]
    },
    {
      "cell_type": "markdown",
      "metadata": {
        "id": "eP69_k3QPPUM",
        "colab_type": "text"
      },
      "source": [
        "if-else"
      ]
    },
    {
      "cell_type": "code",
      "metadata": {
        "id": "IKSSr0QDaz3z",
        "colab_type": "code",
        "colab": {
          "base_uri": "https://localhost:8080/",
          "height": 34
        },
        "outputId": "5378d437-66bd-401f-ae9b-4e1ea2134500"
      },
      "source": [
        "if 2+2*2+2==10:\n",
        "  print(\"2+2*2+2==10はTRUE（正しい）\")\n",
        "else:\n",
        "  print(\"2+2*2+2==10はFALSE（誤っている）\")"
      ],
      "execution_count": 18,
      "outputs": [
        {
          "output_type": "stream",
          "text": [
            "2+2*2+2==10はFALSE（誤っている）\n"
          ],
          "name": "stdout"
        }
      ]
    },
    {
      "cell_type": "markdown",
      "metadata": {
        "id": "YFDcDYQSPSLR",
        "colab_type": "text"
      },
      "source": [
        "**if else 応用**"
      ]
    },
    {
      "cell_type": "code",
      "metadata": {
        "id": "cyu9W-37O72y",
        "colab_type": "code",
        "colab": {
          "base_uri": "https://localhost:8080/",
          "height": 34
        },
        "outputId": "29c3427a-8676-4888-bf60-acf34afbef41"
      },
      "source": [
        "a_year=1974\n",
        "if a_year==1974:\n",
        "  print(a_year,\"年、スギモト生まれる\")\n",
        "else:\n",
        "  print(a_year,\"年はスギモトが生まれたトシではない\")"
      ],
      "execution_count": 42,
      "outputs": [
        {
          "output_type": "stream",
          "text": [
            "1974 年、スギモト生まれる\n"
          ],
          "name": "stdout"
        }
      ]
    },
    {
      "cell_type": "markdown",
      "metadata": {
        "id": "u3pmOHCwQBoL",
        "colab_type": "text"
      },
      "source": [
        "**年齢判別コード**"
      ]
    },
    {
      "cell_type": "code",
      "metadata": {
        "id": "-CrwvMs4PcvW",
        "colab_type": "code",
        "colab": {
          "base_uri": "https://localhost:8080/",
          "height": 34
        },
        "outputId": "71bd8187-9b43-4779-8718-91f23df9bc63"
      },
      "source": [
        "a_year=2020\n",
        "if a_year>=1974:\n",
        "  print(\"スギモトは\",a_year,\"時点で\",a_year-1974,\"才\")\n",
        "else:\n",
        "  print(a_year,\"年にはまだスギモトが生まれていない\")"
      ],
      "execution_count": 48,
      "outputs": [
        {
          "output_type": "stream",
          "text": [
            "スギモトは 2020 時点で 46 才\n"
          ],
          "name": "stdout"
        }
      ]
    },
    {
      "cell_type": "markdown",
      "metadata": {
        "id": "wXC9alal12Bk",
        "colab_type": "text"
      },
      "source": [
        "**年齢判定コード**"
      ]
    },
    {
      "cell_type": "code",
      "metadata": {
        "id": "58IE8_63K5Qh",
        "colab_type": "code",
        "colab": {
          "base_uri": "https://localhost:8080/",
          "height": 34
        },
        "outputId": "7a5f97fb-668d-4f22-d5d9-1ea8e2fa28a8"
      },
      "source": [
        "a_year=2020\n",
        "if a_year==1974:\n",
        "  print(a_year,\"年、スギモト生まれる\")\n",
        "elif a_year>1974:\n",
        "  print(a_year,\"年、スギモト\", a_year-1974,\"才\")"
      ],
      "execution_count": 39,
      "outputs": [
        {
          "output_type": "stream",
          "text": [
            "2020 年、スギモト 46 才\n"
          ],
          "name": "stdout"
        }
      ]
    },
    {
      "cell_type": "code",
      "metadata": {
        "id": "Z6nLnKhuLOaO",
        "colab_type": "code",
        "colab": {
          "base_uri": "https://localhost:8080/",
          "height": 34
        },
        "outputId": "8e54a8d6-bed1-4b59-f08b-eb01398ddc75"
      },
      "source": [
        "a_num=57\n",
        "for num in range(2,a_num):\n",
        "  if a_num % num==0:\n",
        "    print(a_num, \"素数ではありません\")\n",
        "    break"
      ],
      "execution_count": 23,
      "outputs": [
        {
          "output_type": "stream",
          "text": [
            "57 素数ではありません\n"
          ],
          "name": "stdout"
        }
      ]
    }
  ]
}