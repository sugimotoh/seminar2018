{
  "nbformat": 4,
  "nbformat_minor": 0,
  "metadata": {
    "colab": {
      "name": "OC2019_PYTHON",
      "version": "0.3.2",
      "provenance": [],
      "collapsed_sections": [],
      "include_colab_link": true
    },
    "kernelspec": {
      "name": "python3",
      "display_name": "Python 3"
    },
    "accelerator": "GPU"
  },
  "cells": [
    {
      "cell_type": "markdown",
      "metadata": {
        "id": "view-in-github",
        "colab_type": "text"
      },
      "source": [
        "<a href=\"https://colab.research.google.com/github/sugimotoh/seminar2018/blob/master/OC2019_PYTHON.ipynb\" target=\"_parent\"><img src=\"https://colab.research.google.com/assets/colab-badge.svg\" alt=\"Open In Colab\"/></a>"
      ]
    },
    {
      "cell_type": "markdown",
      "metadata": {
        "id": "NovqjF5uTG9m",
        "colab_type": "text"
      },
      "source": [
        "**Install below package for web access.**\n",
        "\n",
        "*  requests\n"
      ]
    },
    {
      "cell_type": "code",
      "metadata": {
        "id": "vc97HdqfTU9n",
        "colab_type": "code",
        "outputId": "5fed3d81-fe1d-4146-b3ae-5cd3e07053ea",
        "colab": {
          "base_uri": "https://localhost:8080/",
          "height": 101
        }
      },
      "source": [
        "!pip install requests\n",
        "import time"
      ],
      "execution_count": 2,
      "outputs": [
        {
          "output_type": "stream",
          "text": [
            "Requirement already satisfied: requests in /usr/local/lib/python3.6/dist-packages (2.21.0)\n",
            "Requirement already satisfied: idna<2.9,>=2.5 in /usr/local/lib/python3.6/dist-packages (from requests) (2.8)\n",
            "Requirement already satisfied: urllib3<1.25,>=1.21.1 in /usr/local/lib/python3.6/dist-packages (from requests) (1.24.3)\n",
            "Requirement already satisfied: certifi>=2017.4.17 in /usr/local/lib/python3.6/dist-packages (from requests) (2019.6.16)\n",
            "Requirement already satisfied: chardet<3.1.0,>=3.0.2 in /usr/local/lib/python3.6/dist-packages (from requests) (3.0.4)\n"
          ],
          "name": "stdout"
        }
      ]
    },
    {
      "cell_type": "markdown",
      "metadata": {
        "id": "qgHBDqMmTnS2",
        "colab_type": "text"
      },
      "source": [
        "**web access and web scraping.**\n",
        "*   Importing packege requests and use bs4 in BeautifulSoup.\n",
        "*   texts of p tags can be drown specified url\n",
        "*   url is specified by BeautifulSoup.\n",
        "*   texts in url are specified by requests.get.\n",
        "*   you can omit \"print\", that is raw data."
      ]
    },
    {
      "cell_type": "code",
      "metadata": {
        "id": "a6yz0XYcOWMX",
        "colab_type": "code",
        "colab": {}
      },
      "source": [
        "txt_all = []\n",
        "target_url = 'https://docs.google.com/forms/d/e/1FAIpQLSf6kkbqUUZKzyeXWWmf8RnetiJne9nxAzT5l2cyx-_vH_eAmw/viewanalytics'\n",
        "r = requests.get(target_url)\n",
        "soup = BeautifulSoup(r.content, \"html.parser\")\n",
        "txt = soup.find_all(\"div\")"
      ],
      "execution_count": 0,
      "outputs": []
    },
    {
      "cell_type": "code",
      "metadata": {
        "id": "_Lb2bzIcLg8M",
        "colab_type": "code",
        "colab": {
          "base_uri": "https://localhost:8080/",
          "height": 54
        },
        "outputId": "3f43bc98-a10a-4e9b-b354-61dda3ceb800"
      },
      "source": [
        "str_txt_all = str(txt)\n",
        "str_data01 = str_txt_all.replace('google', \"\").replace('http', \"\").replace('www', \"\").replace('google.com', \"\").replace('gstatic.com', \"\").replace('logo', \"\").replace('svg', \"\").replace('_campaign', \"\").replace('utm', \"\").replace('null', \"\").replace('null', \"\").replace('<',\"\").replace('>',\"\").replace('div', \"\").replace('=',\"\").replace('/',\"\").replace('div class',\"\").replace('class',\"\").replace(' ',\"\").replace('jsname',\"\").replace('freebird',\"\").replace('Form',\"\").replace('View',\"\").replace('viewer',\"\").replace('Analytics',\"\").replace('Content',\"\").replace('Header',\"\").replace('Centered',\"\").replace('Mast',\"\").replace('Accent',\"\").replace('Title',\"\").replace('Container',\"\").replace('Card',\"\").replace('Custom',\"\").replace('Background',\"\").replace('Wrapper',\"\").replace('Banner',\"\").replace('export',\"\").replace('Font',\"\").replace('dir',\"\").replace('auto',\"\").replace('heading',\"\").replace('role',\"\").replace('今日は参加してくれてありがとうございました。',\"\").replace('quantumWizSpinnerCircleexportCircle',\"\")\n",
        "str_data02 = str_data01.replace('今日は参加してくれてありがとうございました',\"\").replace('type',\"\").replace('no',\"\").replace('74px',\"\").replace('24px',\"\").replace('74px',\"\").replace('java',\"\").replace('var',\"\").replace('ANALYTICS_LOAD_DATA_',\"\").replace('level',\"\").replace('w7Zlw',\"\").replace('QHAFmf',\"\").replace('qTzz5c',\"\").replace('data-',\"\").replace('Waiting',\"\").replace('Number',\"\").replace('daily',\"\").replace('\\n',\"\").replace('script',\"\").replace('statu',\"\").replace('text',\"\").replace('javascript',\"\").replace('for',\"\").replace('aria-',\"\").replace('Right',\"\").replace('Left',\"\").replace('Wiz',\"\").replace('Clipper',\"\").replace('quantum',\"\").replace('Layer',\"\").replace('Patch',\"\").replace('Label',\"\").replace('Four',\"\").replace('Three',\"\").replace('Gap',\"\").replace('Path',\"\").replace('live',\"\").replace('active',\"\").replace('true',\"\").replace('loading',\"\").replace('message',\"\").replace('animation',\"\").replace('end',\"\").replace('Active',\"\").replace('aria-level', \"\").replace('Response', \"\").replace('Count', \"\").replace('Loading', \"\").replace('Message', \"\").replace('jscontroller', \"\").replace('Text', \"\").replace('id', \"\").replace('Spinner', \"\").replace('responses', \"\").replace('jsaction', \"\").replace('Circle', \"\").replace('Color', \"\").replace('One', \"\").replace('Two', \"\").replace('none', \"\").replace('Item', \"\").replace('container', \"\").replace('Hover', \"\").replace('CommonNos', \"\").replace('span', \"\").replace('Question', \"\").replace('label', \"\").replace('Chart', \"\").replace('field', \"\").replace('chart', \"\").replace('header', \"\").replace('question', \"\").replace('title', \"\").replace('assertive', \"\").replace('style', \"\").replace('display', \"\").replace('content', \"\").replace('This', \"\").replace('Footer', \"\").replace('Disclaimer', \"\").replace('target', \"\").replace('Common', \"\").replace('Product', \"\").replace('name', \"\").replace('Lockup', \"\").replace('-off', \"\").replace('screen', \"\").replace('Clip', \"\").replace('board', \"\").replace('rcuQ6b:ZfS4Ye;R0cAub:c7VZCf;FLWX3b:O4Sble;h4C59c:USa2pb;Nrn0De:T1siDe',\"\").replace('ここに参加してみて、今あなたが思ってることを自由に書いてみてください',\"\")\n",
        "str_data03 = str_data02.replace('fukuoka-u.ac.jp',\"\").replace('福岡大学',\"\").replace('kWijWc',\"\").replace('dyRcpb',\"\").replace('803962320',\"\").replace('2126628398',\"\").replace('_blank',\"\").replace('Report',\"\").replace('report',\"\").replace('abuse',\"\").replace('Abuse',\"\").replace('Terms',\"\").replace('Service',\"\").replace('Image',\"\").replace('Page',\"\").replace('Break',\"\").replace('Noyetthis',\"\").replace('Google',\"\").replace('height',\"\").replace('isneithercreatednororsedby',\"\").replace('imgalt',\"\").replace('src',\"\").replace('ahref',\"\").replace('href',\"\").replace('canvas',\"\").replace('1ekfmL0B3qouYTGURSbU2wDuWhaOprnzyynxdqSBFEELxow',\"\").replace('e1FAIpQLSf6kkbqUUZKzyeXWWmf8RnetiJne9nxAzT5l2cyx-_vH_eAmw',\"\").replace('2019-07-31',\"\")\n",
        "str_data04 = str_data03.replace('qAKInc',\"\").replace('vyyg5',\"\").replace('Hxlbvc',\"\").replace('cAPHHf',\"\").replace('JIbuQc',\"\").replace('SGlE9e',\"\").replace('pBryFb',\"\").replace('qRahP',\"\").replace('OCpko',\"\").replace('zage9e',\"\").replace('VfNHU',\"\").replace('YiIfHb',\"\").replace('e2Bgfd',\"\").replace('EB1sYd',\"\").replace('RUmyUe',\"\").replace('tbOalc',\"\").replace('。',\"\").replace('RUmyUe',\"\").replace('uF7R0d',\"\").replace('isneithercreatedrorsedby',\"\").replace('comac',\"\").replace('&amp',\"\").replace('s__clr_',\"\").replace('\\xa0',\"\").replace('ms',\"\").replace('sa,',\"\").replace('VKFYFe',\"\").replace('mUshgf',\"\").replace('VKFYFe',\"\").replace('com',\"\").replace('medium',\"\").replace('wth',\"\").replace('74x.',\"\")\n",
        "str_data05 = str_data04.replace('mediumms', \"\").replace('source', \"\").replace('product', \"\").replace('image', \"\").replace('branding', \"\").replace('dark', \"\").replace('counts', \"\").replace('about', \"\").replace('comms', \"\").replace('1200', \"\").replace('300', \"\").replace('246', \"\").replace('217', \"\").replace('197', \"\").replace('196', \"\").replace('194', \"\").replace('179', \"\").replace('169', \"\").replace('166', \"\").replace('164', \"\").replace('155', \"\").replace('150', \"\").replace('123', \"\").replace('112', \"\").replace('110', \"\").replace('85', \"\").replace('84', \"\").replace('50', \"\").replace('46', \"\").replace('41', \"\").replace('35', \"\").replace('s:.s__clr_',\"\").replace('lOpgee', \"\").replace('Nos', \"\").replace('TOS', \"\").replace('of', \"\").replace('?', \"\").replace('TPaNG', \"\").replace('clip', \"\").replace('_', \"\").replace('ne', \"\").replace('a', \"\").replace('-', \"\").replace('YcZb7', \"\").replace('i2', \"\").replace('s', \"\").replace('2]', \"\").replace('0]', \"\").replace('1]', \"\").replace('48', \"\").replace('(e)', \"\").replace('i1', \"\").replace('1', \"\").replace('0', \"\").replace('5', \"\").replace('2', \"\").replace('i', \"\").replace('(', \"\").replace(')', \"\").replace(':', \"\").replace('[', \"\").replace(']', \"\").replace(';', \"\").replace('.', \"\").replace('…', \"\").replace('\"', \"\")\n",
        "str_data06 = str_data05.replace('6', \"\")\n",
        "str_data06"
      ],
      "execution_count": 245,
      "outputs": [
        {
          "output_type": "execute_result",
          "data": {
            "text/plain": [
              "',,,,,,,,,,,,,,,,,,,,,,,,,,,,,,,,,,,,,,,,,,,,,,,,,,,,,,,,,,,,,,,,,,,,,,,,,,,,,,,,,,,,,,,,,,,,,,,,,,,,,,,,,,,,,,,tet,,,てｓｔ,,,あ,,,杉本先生お久しぶりです,,,お腹がすきました,,,こじこじ,,,,,,,,,,,,,,,,,,,,,,,,,,,,,,,,,,,,,,,,,,,,,,,,,,,,,,,,,,,,,,,,,,,,,,,,,,,,,,,,,,,,,,,,,,,,,,,,,,,,,,,,,,,,,,,,,,,,,,,,,,tet,,,てｓｔ,,,あ,,,杉本先生お久しぶりです,,,お腹がすきました,,,こじこじ,,,,,,,,,,,,,,,,,,,,,,,,,,,,,,,,,,,,,,,,,,,,,,,,,,,,,,,,,,,,,,,,,,,,,,,,,,,,,,,,,,,,,,,,,,,,,,,,,,,,,,,,,,,,,,,,,,,,,,,,,tet,,,てｓｔ,,,あ,,,杉本先生お久しぶりです,,,お腹がすきました,,,こじこじ,,,,,,,,,,,,,,,,,,,,,,,,,,,,,,,,,,,,,,,,,,,,,,,,,,,,,,,,,,,,,,,,,,,,,,,,'"
            ]
          },
          "metadata": {
            "tags": []
          },
          "execution_count": 245
        }
      ]
    },
    {
      "cell_type": "code",
      "metadata": {
        "id": "vxaAKewd6ysF",
        "colab_type": "code",
        "colab": {}
      },
      "source": [
        "import requests"
      ],
      "execution_count": 0,
      "outputs": []
    },
    {
      "cell_type": "code",
      "metadata": {
        "id": "8uDOvgKb-LUV",
        "colab_type": "code",
        "colab": {
          "base_uri": "https://localhost:8080/",
          "height": 34
        },
        "outputId": "78c37d22-0c9e-4bc2-f5cf-c873a90bbe9d"
      },
      "source": [
        "!pip install janome"
      ],
      "execution_count": 239,
      "outputs": [
        {
          "output_type": "stream",
          "text": [
            "Requirement already satisfied: janome in /usr/local/lib/python3.6/dist-packages (0.3.9)\n"
          ],
          "name": "stdout"
        }
      ]
    },
    {
      "cell_type": "code",
      "metadata": {
        "id": "f_IpnRmk_Mzo",
        "colab_type": "code",
        "colab": {
          "base_uri": "https://localhost:8080/",
          "height": 1000
        },
        "outputId": "2c14f10e-82a3-4591-a1a3-0e1b4fa394c8"
      },
      "source": [
        "from janome.tokenizer import Tokenizer\n",
        "text = str_data06\n",
        "t = Tokenizer()\n",
        "tokens = t.tokenize(text)\n",
        "for token in tokens:\n",
        "    print(token)"
      ],
      "execution_count": 246,
      "outputs": [
        {
          "output_type": "stream",
          "text": [
            ",,,,,,,,,,,,,,,,,,,,,,,,,,,,,,,,,,,,,,,,,,,,,,,,,,,,,,,,,,,,,,,,,,,,,,,,,,,,,,,,,,,,,,,,,,,,,,,,,,,,,,,,,,,,,,,\t名詞,サ変接続,*,*,*,*,,,,,,,,,,,,,,,,,,,,,,,,,,,,,,,,,,,,,,,,,,,,,,,,,,,,,,,,,,,,,,,,,,,,,,,,,,,,,,,,,,,,,,,,,,,,,,,,,,,,,,,,,,,,,,,,,*,*\n",
            "tet\t名詞,一般,*,*,*,*,tet,*,*\n",
            ",,,\t名詞,サ変接続,*,*,*,*,,,,,*,*\n",
            "て\t助詞,格助詞,連語,*,*,*,て,テ,テ\n",
            "ｓ\t記号,アルファベット,*,*,*,*,ｓ,エス,エス\n",
            "ｔ\t記号,アルファベット,*,*,*,*,ｔ,ティー,ティー\n",
            ",,,\t名詞,サ変接続,*,*,*,*,,,,,*,*\n",
            "あ\tフィラー,*,*,*,*,*,あ,ア,ア\n",
            ",,,\t名詞,サ変接続,*,*,*,*,,,,,*,*\n",
            "杉本\t名詞,固有名詞,人名,姓,*,*,杉本,スギモト,スギモト\n",
            "先生\t名詞,一般,*,*,*,*,先生,センセイ,センセイ\n",
            "お\t接頭詞,名詞接続,*,*,*,*,お,オ,オ\n",
            "久しぶり\t名詞,一般,*,*,*,*,久しぶり,ヒサシブリ,ヒサシブリ\n",
            "です\t助動詞,*,*,*,特殊・デス,基本形,です,デス,デス\n",
            ",,,\t名詞,サ変接続,*,*,*,*,,,,,*,*\n",
            "お腹\t名詞,一般,*,*,*,*,お腹,オナカ,オナカ\n",
            "が\t助詞,格助詞,一般,*,*,*,が,ガ,ガ\n",
            "すき\t動詞,自立,*,*,五段・カ行イ音便,連用形,すく,スキ,スキ\n",
            "まし\t助動詞,*,*,*,特殊・マス,連用形,ます,マシ,マシ\n",
            "た\t助動詞,*,*,*,特殊・タ,基本形,た,タ,タ\n",
            ",,,\t名詞,サ変接続,*,*,*,*,,,,,*,*\n",
            "こじ\t動詞,自立,*,*,五段・ラ行,体言接続特殊２,こじる,コジ,コジ\n",
            "こじ\t動詞,自立,*,*,五段・ラ行,体言接続特殊２,こじる,コジ,コジ\n",
            ",,,,,,,,,,,,,,,,,,,,,,,,,,,,,,,,,,,,,,,,,,,,,,,,,,,,,,,,,,,,,,,,,,,,,,,,,,,,,,,,,,,,,,,,,,,,,,,,,,,,,,,,,,,,,,,,,,,,,,,,,,\t名詞,サ変接続,*,*,*,*,,,,,,,,,,,,,,,,,,,,,,,,,,,,,,,,,,,,,,,,,,,,,,,,,,,,,,,,,,,,,,,,,,,,,,,,,,,,,,,,,,,,,,,,,,,,,,,,,,,,,,,,,,,,,,,,,,,,,,,,,,,,*,*\n",
            "tet\t名詞,一般,*,*,*,*,tet,*,*\n",
            ",,,\t名詞,サ変接続,*,*,*,*,,,,,*,*\n",
            "て\t助詞,格助詞,連語,*,*,*,て,テ,テ\n",
            "ｓ\t記号,アルファベット,*,*,*,*,ｓ,エス,エス\n",
            "ｔ\t記号,アルファベット,*,*,*,*,ｔ,ティー,ティー\n",
            ",,,\t名詞,サ変接続,*,*,*,*,,,,,*,*\n",
            "あ\tフィラー,*,*,*,*,*,あ,ア,ア\n",
            ",,,\t名詞,サ変接続,*,*,*,*,,,,,*,*\n",
            "杉本\t名詞,固有名詞,人名,姓,*,*,杉本,スギモト,スギモト\n",
            "先生\t名詞,一般,*,*,*,*,先生,センセイ,センセイ\n",
            "お\t接頭詞,名詞接続,*,*,*,*,お,オ,オ\n",
            "久しぶり\t名詞,一般,*,*,*,*,久しぶり,ヒサシブリ,ヒサシブリ\n",
            "です\t助動詞,*,*,*,特殊・デス,基本形,です,デス,デス\n",
            ",,,\t名詞,サ変接続,*,*,*,*,,,,,*,*\n",
            "お腹\t名詞,一般,*,*,*,*,お腹,オナカ,オナカ\n",
            "が\t助詞,格助詞,一般,*,*,*,が,ガ,ガ\n",
            "すき\t動詞,自立,*,*,五段・カ行イ音便,連用形,すく,スキ,スキ\n",
            "まし\t助動詞,*,*,*,特殊・マス,連用形,ます,マシ,マシ\n",
            "た\t助動詞,*,*,*,特殊・タ,基本形,た,タ,タ\n",
            ",,,\t名詞,サ変接続,*,*,*,*,,,,,*,*\n",
            "こじ\t動詞,自立,*,*,五段・ラ行,体言接続特殊２,こじる,コジ,コジ\n",
            "こじ\t動詞,自立,*,*,五段・ラ行,体言接続特殊２,こじる,コジ,コジ\n",
            ",,,,,,,,,,,,,,,,,,,,,,,,,,,,,,,,,,,,,,,,,,,,,,,,,,,,,,,,,,,,,,,,,,,,,,,,,,,,,,,,,,,,,,,,,,,,,,,,,,,,,,,,,,,,,,,,,,,,,,,,,\t名詞,サ変接続,*,*,*,*,,,,,,,,,,,,,,,,,,,,,,,,,,,,,,,,,,,,,,,,,,,,,,,,,,,,,,,,,,,,,,,,,,,,,,,,,,,,,,,,,,,,,,,,,,,,,,,,,,,,,,,,,,,,,,,,,,,,,,,,,,,*,*\n",
            "tet\t名詞,一般,*,*,*,*,tet,*,*\n",
            ",,,\t名詞,サ変接続,*,*,*,*,,,,,*,*\n",
            "て\t助詞,格助詞,連語,*,*,*,て,テ,テ\n",
            "ｓ\t記号,アルファベット,*,*,*,*,ｓ,エス,エス\n",
            "ｔ\t記号,アルファベット,*,*,*,*,ｔ,ティー,ティー\n",
            ",,,\t名詞,サ変接続,*,*,*,*,,,,,*,*\n",
            "あ\tフィラー,*,*,*,*,*,あ,ア,ア\n",
            ",,,\t名詞,サ変接続,*,*,*,*,,,,,*,*\n",
            "杉本\t名詞,固有名詞,人名,姓,*,*,杉本,スギモト,スギモト\n",
            "先生\t名詞,一般,*,*,*,*,先生,センセイ,センセイ\n",
            "お\t接頭詞,名詞接続,*,*,*,*,お,オ,オ\n",
            "久しぶり\t名詞,一般,*,*,*,*,久しぶり,ヒサシブリ,ヒサシブリ\n",
            "です\t助動詞,*,*,*,特殊・デス,基本形,です,デス,デス\n",
            ",,,\t名詞,サ変接続,*,*,*,*,,,,,*,*\n",
            "お腹\t名詞,一般,*,*,*,*,お腹,オナカ,オナカ\n",
            "が\t助詞,格助詞,一般,*,*,*,が,ガ,ガ\n",
            "すき\t動詞,自立,*,*,五段・カ行イ音便,連用形,すく,スキ,スキ\n",
            "まし\t助動詞,*,*,*,特殊・マス,連用形,ます,マシ,マシ\n",
            "た\t助動詞,*,*,*,特殊・タ,基本形,た,タ,タ\n",
            ",,,\t名詞,サ変接続,*,*,*,*,,,,,*,*\n",
            "こじ\t動詞,自立,*,*,五段・ラ行,体言接続特殊２,こじる,コジ,コジ\n",
            "こじ\t動詞,自立,*,*,五段・ラ行,体言接続特殊２,こじる,コジ,コジ\n",
            ",,,,,,,,,,,,,,,,,,,,,,,,,,,,,,,,,,,,,,,,,,,,,,,,,,,,,,,,,,,,,,,,,,,,,,,,\t名詞,サ変接続,*,*,*,*,,,,,,,,,,,,,,,,,,,,,,,,,,,,,,,,,,,,,,,,,,,,,,,,,,,,,,,,,,,,,,,,,,,,,,,,,,*,*\n"
          ],
          "name": "stdout"
        }
      ]
    },
    {
      "cell_type": "code",
      "metadata": {
        "id": "yk-eOkq0_aSj",
        "colab_type": "code",
        "colab": {
          "base_uri": "https://localhost:8080/",
          "height": 487
        },
        "outputId": "3ef8554c-e8a6-42c8-ff3a-c7e807afe1e4"
      },
      "source": [
        "!apt-get -y install fonts-ipafont-gothic"
      ],
      "execution_count": 241,
      "outputs": [
        {
          "output_type": "stream",
          "text": [
            "Reading package lists... Done\n",
            "Building dependency tree       \n",
            "Reading state information... Done\n",
            "The following package was automatically installed and is no longer required:\n",
            "  libnvidia-common-410\n",
            "Use 'apt autoremove' to remove it.\n",
            "The following additional packages will be installed:\n",
            "  fonts-ipafont-mincho\n",
            "The following NEW packages will be installed:\n",
            "  fonts-ipafont-gothic fonts-ipafont-mincho\n",
            "0 upgraded, 2 newly installed, 0 to remove and 7 not upgraded.\n",
            "Need to get 8,251 kB of archives.\n",
            "After this operation, 28.7 MB of additional disk space will be used.\n",
            "Get:1 http://archive.ubuntu.com/ubuntu bionic/universe amd64 fonts-ipafont-gothic all 00303-18ubuntu1 [3,526 kB]\n",
            "Get:2 http://archive.ubuntu.com/ubuntu bionic/universe amd64 fonts-ipafont-mincho all 00303-18ubuntu1 [4,725 kB]\n",
            "Fetched 8,251 kB in 2s (4,518 kB/s)\n",
            "Selecting previously unselected package fonts-ipafont-gothic.\n",
            "(Reading database ... 131331 files and directories currently installed.)\n",
            "Preparing to unpack .../fonts-ipafont-gothic_00303-18ubuntu1_all.deb ...\n",
            "Unpacking fonts-ipafont-gothic (00303-18ubuntu1) ...\n",
            "Selecting previously unselected package fonts-ipafont-mincho.\n",
            "Preparing to unpack .../fonts-ipafont-mincho_00303-18ubuntu1_all.deb ...\n",
            "Unpacking fonts-ipafont-mincho (00303-18ubuntu1) ...\n",
            "Setting up fonts-ipafont-gothic (00303-18ubuntu1) ...\n",
            "update-alternatives: using /usr/share/fonts/opentype/ipafont-gothic/ipag.ttf to provide /usr/share/fonts/truetype/fonts-japanese-gothic.ttf (fonts-japanese-gothic.ttf) in auto mode\n",
            "Setting up fonts-ipafont-mincho (00303-18ubuntu1) ...\n",
            "update-alternatives: using /usr/share/fonts/opentype/ipafont-mincho/ipam.ttf to provide /usr/share/fonts/truetype/fonts-japanese-mincho.ttf (fonts-japanese-mincho.ttf) in auto mode\n",
            "Processing triggers for fontconfig (2.12.6-0ubuntu2) ...\n"
          ],
          "name": "stdout"
        }
      ]
    },
    {
      "cell_type": "code",
      "metadata": {
        "id": "setJL4BNDvYI",
        "colab_type": "code",
        "colab": {
          "base_uri": "https://localhost:8080/",
          "height": 34
        },
        "outputId": "b01e7cc2-bbd6-4fef-9255-72021a566d31"
      },
      "source": [
        "!ls /usr/share/fonts/opentype/ipafont-gothic/ipagp.ttf"
      ],
      "execution_count": 252,
      "outputs": [
        {
          "output_type": "stream",
          "text": [
            "/usr/share/fonts/opentype/ipafont-gothic/ipagp.ttf\n"
          ],
          "name": "stdout"
        }
      ]
    },
    {
      "cell_type": "code",
      "metadata": {
        "id": "MdR3_t_8_lYb",
        "colab_type": "code",
        "colab": {
          "base_uri": "https://localhost:8080/",
          "height": 530
        },
        "outputId": "fad44ce4-6510-4a4d-8b21-8e76d3ce4588"
      },
      "source": [
        "from janome.tokenizer import Tokenizer\n",
        "from wordcloud import WordCloud\n",
        "import matplotlib.pyplot as plt \n",
        " \n",
        "# text_file = open(\"result.txt\")\n",
        "# full_text = text_file.read()\n",
        "# full_text= full_text.replace(\"\\n\",\"\")\n",
        "\n",
        "t = Tokenizer()\n",
        "tokens = t.tokenize(str_data06)\n",
        "\n",
        "\n",
        "word_list=[]\n",
        "for token in tokens:\n",
        "    word = token.surface\n",
        "    partOfSpeech = token.part_of_speech.split(',')[0]\n",
        "    partOfSpeech2 = token.part_of_speech.split(',')[1]\n",
        "     \n",
        "    if partOfSpeech == \"名詞\":\n",
        "        if (partOfSpeech2 != \"非自立\") and (partOfSpeech2 != \"代名詞\") and (partOfSpeech2 != \"数\"):\n",
        "            word_list.append(word)\n",
        " \n",
        "words_wakati=\" \".join(word_list)\n",
        "#print(words_wakati)  \n",
        "\n",
        "stop_words = ['さん','そう']  \n",
        "#fpath = '/usr/share/fonts/truetype/fonts-japanese-gothic.ttf'  # 日本語フォント指定\n",
        "#fpath = \"/Library/Fonts/ヒラギノ角ゴ Pro W3.otf\"\n",
        "#fpath = '~/Library/Fonts/RictyDiminished-Bold.ttf' \n",
        "wordcloud = WordCloud(\n",
        "    font_path='ipagp.ttf',\n",
        "    width=1400, height=800,   # default width=400, height=200\n",
        "    background_color=\"white\",   # default=”black”\n",
        "    stopwords=set(stop_words),\n",
        "    max_words=500,   # default=200\n",
        "    min_font_size=4,   #default=4\n",
        "    collocations = False   #default = True\n",
        "    ).generate(words_wakati)\n",
        " \n",
        "plt.figure(figsize=(15,12))\n",
        "plt.imshow(wordcloud)\n",
        "plt.axis(\"off\")\n",
        "plt.savefig(\"word_cloud.png\")\n",
        "plt.show()\n"
      ],
      "execution_count": 255,
      "outputs": [
        {
          "output_type": "display_data",
          "data": {
            "image/png": "[encoded data removed]",
            "text/plain": [
              "<Figure size 1080x864 with 1 Axes>"
            ]
          },
          "metadata": {
            "tags": []
          }
        }
      ]
    }
  ]
}